{
  "nbformat": 4,
  "nbformat_minor": 0,
  "metadata": {
    "colab": {
      "provenance": [],
      "authorship_tag": "ABX9TyM2+sfcWZRxl5SCGhH5SLds",
      "include_colab_link": true
    },
    "kernelspec": {
      "name": "python3",
      "display_name": "Python 3"
    },
    "language_info": {
      "name": "python"
    }
  },
  "cells": [
    {
      "cell_type": "markdown",
      "metadata": {
        "id": "view-in-github",
        "colab_type": "text"
      },
      "source": [
        "<a href=\"https://colab.research.google.com/github/meesem/Python-PIAIC-72/blob/main/Python_Crash_Course_Ch2_Ch3_Practice_meesemtumar.ipynb\" target=\"_parent\"><img src=\"https://colab.research.google.com/assets/colab-badge.svg\" alt=\"Open In Colab\"/></a>"
      ]
    },
    {
      "cell_type": "markdown",
      "source": [
        "1-Create a variable called greeting and store any message. Print it.\n"
      ],
      "metadata": {
        "id": "t0jF85Zc0NKy"
      }
    },
    {
      "cell_type": "code",
      "source": [
        "greeting=\"hello world\"\n",
        "print(greeting)\n"
      ],
      "metadata": {
        "colab": {
          "base_uri": "https://localhost:8080/"
        },
        "id": "HSPMXO-70idI",
        "outputId": "6dc72da2-28fa-46d8-97da-600b7e9e8229"
      },
      "execution_count": null,
      "outputs": [
        {
          "output_type": "stream",
          "name": "stdout",
          "text": [
            "hello world\n"
          ]
        }
      ]
    },
    {
      "cell_type": "markdown",
      "source": [],
      "metadata": {
        "id": "ieDyGF0807SH"
      }
    },
    {
      "cell_type": "markdown",
      "source": [
        "2-Change the value of greeting to a new message. Print the updated message."
      ],
      "metadata": {
        "id": "bKVIQnol07h_"
      }
    },
    {
      "cell_type": "code",
      "source": [
        "greeting = \"hello python world\"\n",
        "print(greeting)"
      ],
      "metadata": {
        "colab": {
          "base_uri": "https://localhost:8080/"
        },
        "id": "C8nB0tTp0_My",
        "outputId": "9ae613ea-ec68-40c8-866d-5e6c6bb47843"
      },
      "execution_count": null,
      "outputs": [
        {
          "output_type": "stream",
          "name": "stdout",
          "text": [
            "hello python world\n"
          ]
        }
      ]
    },
    {
      "cell_type": "markdown",
      "source": [
        "3-Create two variables first_name and last_name. Combine them into a full name using an f-string."
      ],
      "metadata": {
        "id": "0Td-xHdt1jjv"
      }
    },
    {
      "cell_type": "code",
      "source": [
        "first_name=\"meesem\"\n",
        "last_name=\"tumar\"\n",
        "full_name=f\"{first_name} {last_name}\"\n",
        "print(full_name)"
      ],
      "metadata": {
        "colab": {
          "base_uri": "https://localhost:8080/"
        },
        "id": "Cbbou3nH1pq2",
        "outputId": "7cbe5888-6b14-4486-f396-72156aae599e"
      },
      "execution_count": null,
      "outputs": [
        {
          "output_type": "stream",
          "name": "stdout",
          "text": [
            "meesem tumar\n"
          ]
        }
      ]
    },
    {
      "cell_type": "code",
      "source": [
        "first_name=\"meesem\"\n",
        "last_name=\"tumar\"\n",
        "full_name=f\"{first_name} {last_name}\"\n",
        "message=f\"hello, {full_name.title()}!\"\n",
        "print(message)"
      ],
      "metadata": {
        "colab": {
          "base_uri": "https://localhost:8080/"
        },
        "id": "Dh1QlgCy4Fap",
        "outputId": "aca8ae56-6374-44e2-9cba-76044bbad24e"
      },
      "execution_count": null,
      "outputs": [
        {
          "output_type": "stream",
          "name": "stdout",
          "text": [
            "hello, Meesem Tumar!\n"
          ]
        }
      ]
    },
    {
      "cell_type": "code",
      "source": [
        "first_name=\"nigah\"\n",
        "last_name=\"fatima\"\n",
        "full_name=f\"{first_name} {last_name}\"\n",
        "message=f\"hello,{full_name.title()}!\"\n",
        "print(message)"
      ],
      "metadata": {
        "colab": {
          "base_uri": "https://localhost:8080/"
        },
        "id": "dJH49saO-2ab",
        "outputId": "bbab0acd-ea95-4e43-af1c-f7659893d127"
      },
      "execution_count": null,
      "outputs": [
        {
          "output_type": "stream",
          "name": "stdout",
          "text": [
            "hello,Nigah Fatima!\n"
          ]
        }
      ]
    },
    {
      "cell_type": "code",
      "source": [
        "first_name=\"\\taoun\"\n",
        "last_name=\"\\nabbas\"\n",
        "full_name=f\"{first_name} {last_name}\"\n",
        "message=f\"hello,{full_name.title()}!\"\n",
        "print(message)"
      ],
      "metadata": {
        "colab": {
          "base_uri": "https://localhost:8080/"
        },
        "id": "8VC7Fqb4_b4d",
        "outputId": "a3d89513-bc41-4c43-b8b6-151db1a80860"
      },
      "execution_count": null,
      "outputs": [
        {
          "output_type": "stream",
          "name": "stdout",
          "text": [
            "hello,\tAoun \n",
            "Abbas!\n"
          ]
        }
      ]
    },
    {
      "cell_type": "code",
      "source": [
        "favourite_language=\"urdu \"\n",
        "favourite_language=favourite_language.rstrip()\n",
        "print(favourite_language)"
      ],
      "metadata": {
        "colab": {
          "base_uri": "https://localhost:8080/"
        },
        "id": "FU5wem9rBjc-",
        "outputId": "92322da9-a995-41f9-8642-515c130b6c91"
      },
      "execution_count": null,
      "outputs": [
        {
          "output_type": "stream",
          "name": "stdout",
          "text": [
            "urdu\n"
          ]
        }
      ]
    },
    {
      "cell_type": "markdown",
      "source": [
        "4-Print a quote along with the author's name using an f-string.\n"
      ],
      "metadata": {
        "id": "QNPXD_YKpGxB"
      }
    },
    {
      "cell_type": "code",
      "source": [
        "quote = \"The only way to do great work is to love what you do.\"\n",
        "author = \"Steve Jobs\"\n",
        "print(f\"{author} once said,\\\"{quote}\\\"\")"
      ],
      "metadata": {
        "colab": {
          "base_uri": "https://localhost:8080/"
        },
        "id": "tFHLdWbypKGq",
        "outputId": "7cd6b756-3a65-4515-9424-72a55b5b95ec"
      },
      "execution_count": null,
      "outputs": [
        {
          "output_type": "stream",
          "name": "stdout",
          "text": [
            "Steve Jobs once said,\"The only way to do great work is to love what you do.\"\n"
          ]
        }
      ]
    },
    {
      "cell_type": "markdown",
      "source": [
        "5-Store a person's name with extra spaces. Strip the spaces before printing."
      ],
      "metadata": {
        "id": "DA1rlU3drWm2"
      }
    },
    {
      "cell_type": "code",
      "source": [
        "my_name=\"meesem \"\n",
        "my_name=my_name.rstrip()\n",
        "print(my_name)"
      ],
      "metadata": {
        "colab": {
          "base_uri": "https://localhost:8080/"
        },
        "id": "Ws3B9kwQrY9K",
        "outputId": "e84d7a31-13f4-4d45-c878-7e19a5d050fc"
      },
      "execution_count": null,
      "outputs": [
        {
          "output_type": "stream",
          "name": "stdout",
          "text": [
            "meesem\n"
          ]
        }
      ]
    },
    {
      "cell_type": "markdown",
      "source": [
        "6-Take a number, add 5, multiply by 2, subtract 3, and print the final result."
      ],
      "metadata": {
        "id": "qrqxWufcsVnW"
      }
    },
    {
      "cell_type": "code",
      "source": [
        "number=72\n",
        "result=(number+5)*2-3\n",
        "print(result)"
      ],
      "metadata": {
        "colab": {
          "base_uri": "https://localhost:8080/"
        },
        "id": "A0-gILsHsbph",
        "outputId": "7981394d-2cd5-4dc1-832c-644261205573"
      },
      "execution_count": null,
      "outputs": [
        {
          "output_type": "stream",
          "name": "stdout",
          "text": [
            "151\n"
          ]
        }
      ]
    },
    {
      "cell_type": "markdown",
      "source": [
        "7-Create two numbers a and b and print their sum, difference, product, and quotient."
      ],
      "metadata": {
        "id": "cp40mMoMuP9b"
      }
    },
    {
      "cell_type": "code",
      "source": [
        "number_1=10\n",
        "number_2=20\n",
        "sum=(number_1+number_2)\n",
        "difference=(number_1-number_2)\n",
        "product=(number_1*number_2)\n",
        "quotient=(number_1/number_2)\n",
        "print(f\"sum:{sum}\\ndifference:{difference}\\nproduct:{product}\\nquotient:{quotient}\")"
      ],
      "metadata": {
        "colab": {
          "base_uri": "https://localhost:8080/"
        },
        "id": "ez7VzzwAuUrb",
        "outputId": "589c3e2f-dfc3-441b-ff92-1f3a1b8625ed"
      },
      "execution_count": null,
      "outputs": [
        {
          "output_type": "stream",
          "name": "stdout",
          "text": [
            "sum:30\n",
            "difference:-10\n",
            "product:200\n",
            "quotient:0.5\n"
          ]
        }
      ]
    },
    {
      "cell_type": "markdown",
      "source": [
        "8-Find the square and cube of a number using the ** operator."
      ],
      "metadata": {
        "id": "2UbmU5u8j8RR"
      }
    },
    {
      "cell_type": "code",
      "source": [
        "number=3\n",
        "number=3\n",
        "squre=number**2\n",
        "cube=number**3\n",
        "print(f\"squre:{squre}\\ncube:{cube}\")"
      ],
      "metadata": {
        "colab": {
          "base_uri": "https://localhost:8080/"
        },
        "id": "GqfxKcb8kABA",
        "outputId": "780ea5c9-c888-42b9-d37b-22f6dad2ef8d"
      },
      "execution_count": null,
      "outputs": [
        {
          "output_type": "stream",
          "name": "stdout",
          "text": [
            "squre:9\n",
            "cube:27\n"
          ]
        }
      ]
    },
    {
      "cell_type": "markdown",
      "source": [
        "9-Print the sum of three floating-point numbers."
      ],
      "metadata": {
        "id": "8wqgiuhRlqtt"
      }
    },
    {
      "cell_type": "code",
      "source": [
        "num1 = 1.5\n",
        "num2 = 2.5\n",
        "num3 = 3.0\n",
        "sum_of_numbers = num1 + num2 + num3\n",
        "sum_of_numbers\n"
      ],
      "metadata": {
        "colab": {
          "base_uri": "https://localhost:8080/"
        },
        "id": "SOwzRDS9lsSY",
        "outputId": "09d7892f-1630-42da-9c01-1f6639940d04"
      },
      "execution_count": null,
      "outputs": [
        {
          "output_type": "execute_result",
          "data": {
            "text/plain": [
              "7.0"
            ]
          },
          "metadata": {},
          "execution_count": 4
        }
      ]
    },
    {
      "cell_type": "markdown",
      "source": [
        "10-Assign three variables x, y, z in a single line and print them."
      ],
      "metadata": {
        "id": "R8wOuUKjmAkp"
      }
    },
    {
      "cell_type": "code",
      "source": [
        "x, y, z = 10, 20, 30\n",
        "print(x, y, z)\n"
      ],
      "metadata": {
        "id": "Iud_c-v_mCSw"
      },
      "execution_count": null,
      "outputs": []
    },
    {
      "cell_type": "code",
      "source": [
        "a,b,c=\"meesem\",\"ali\",\"irtiza\"\n",
        "print(f\"a:{a.title()}\\nb:{b.title()}\\nc:{c.title()}\")"
      ],
      "metadata": {
        "colab": {
          "base_uri": "https://localhost:8080/"
        },
        "id": "93F5IZ2umMqn",
        "outputId": "977a992a-8b46-4fd4-ab5b-ccb9183ed149"
      },
      "execution_count": null,
      "outputs": [
        {
          "output_type": "stream",
          "name": "stdout",
          "text": [
            "a:Meesem\n",
            "b:Ali\n",
            "c:Irtiza\n"
          ]
        }
      ]
    }
  ]
}