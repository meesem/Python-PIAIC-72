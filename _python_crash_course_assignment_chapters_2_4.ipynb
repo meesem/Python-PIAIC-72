{
  "nbformat": 4,
  "nbformat_minor": 0,
  "metadata": {
    "colab": {
      "provenance": [],
      "authorship_tag": "ABX9TyOHzo7OvqlM1V/t6S4lUXu+",
      "include_colab_link": true
    },
    "kernelspec": {
      "name": "python3",
      "display_name": "Python 3"
    },
    "language_info": {
      "name": "python"
    }
  },
  "cells": [
    {
      "cell_type": "markdown",
      "metadata": {
        "id": "view-in-github",
        "colab_type": "text"
      },
      "source": [
        "<a href=\"https://colab.research.google.com/github/meesem/Python-PIAIC-72/blob/main/_python_crash_course_assignment_chapters_2_4.ipynb\" target=\"_parent\"><img src=\"https://colab.research.google.com/assets/colab-badge.svg\" alt=\"Open In Colab\"/></a>"
      ]
    },
    {
      "cell_type": "code",
      "execution_count": null,
      "metadata": {
        "id": "nALiZj1ACO2v"
      },
      "outputs": [],
      "source": []
    },
    {
      "cell_type": "markdown",
      "source": [
        " Part 1: Variables & Input\n",
        " ✅\n",
        " Q1. Favorite Movie Intro"
      ],
      "metadata": {
        "id": "X7tagDRECiRZ"
      }
    },
    {
      "cell_type": "code",
      "source": [
        "favourite_movie=input(\"what is your favourite movie:\")\n",
        "print(\"Ali,s favourite movie is\",favourite_movie)\n",
        "message=f\"Alis favourite movie is\\n{favourite_movie.title()}\"\n",
        "print(message)"
      ],
      "metadata": {
        "colab": {
          "base_uri": "https://localhost:8080/"
        },
        "id": "U7MkqZpFCkXe",
        "outputId": "822560c2-e0f6-4769-8636-5421495f7891"
      },
      "execution_count": null,
      "outputs": [
        {
          "output_type": "stream",
          "name": "stdout",
          "text": [
            "what is your favourite movie:interstellar\n",
            "Ali,s favourite movie is interstellar interstellar\n",
            "Alis favourite movie is interstellar\n",
            "Interstellar\n"
          ]
        }
      ]
    },
    {
      "cell_type": "markdown",
      "source": [
        "✅\n",
        " Q2. Case Converter\n",
        "\n"
      ],
      "metadata": {
        "id": "a2mUWBjWEhaG"
      }
    },
    {
      "cell_type": "code",
      "source": [
        "MY_NAME=(\"MEESEM\")\n",
        "print(MY_NAME.lower())\n",
        "print(MY_NAME.upper())\n",
        "print(MY_NAME.title())"
      ],
      "metadata": {
        "colab": {
          "base_uri": "https://localhost:8080/"
        },
        "id": "ZyQR8R7MEofP",
        "outputId": "7609bcd2-41e8-4ec4-da6b-7dc713d26b71"
      },
      "execution_count": null,
      "outputs": [
        {
          "output_type": "stream",
          "name": "stdout",
          "text": [
            "meesem\n",
            "MEESEM\n",
            "Meesem\n"
          ]
        }
      ]
    },
    {
      "cell_type": "markdown",
      "source": [
        "Q3. Simple Math with Input\n"
      ],
      "metadata": {
        "id": "KXpDFzNgFOUA"
      }
    },
    {
      "cell_type": "code",
      "source": [
        "number_1=input(\"enter a first number:\")\n",
        "number_2=input(\"enter a second number:\")\n",
        "my_number_int=int(number_1)\n",
        "my_number_int2=int(number_2)\n",
        "my_number_float=float(number_1)\n",
        "my_number_float2=float(number_2)\n",
        "print(my_number_float)\n",
        "print(my_number_float2)\n",
        "sum=(my_number_int+my_number_int2)\n",
        "difference=(my_number_int-my_number_int2)\n",
        "product=(my_number_int*my_number_int2)\n",
        "quotient=(my_number_int/my_number_int2)\n",
        "print(sum,type(sum))\n",
        "print(difference,type(difference))\n",
        "print(product,type(product))\n",
        "print(quotient,type(quotient))"
      ],
      "metadata": {
        "id": "aYbjQHNtGsPM",
        "colab": {
          "base_uri": "https://localhost:8080/"
        },
        "outputId": "384461b7-8187-4fed-82d5-da7d54a65177"
      },
      "execution_count": null,
      "outputs": [
        {
          "output_type": "stream",
          "name": "stdout",
          "text": [
            "enter a first number:10\n",
            "enter a second number:5\n",
            "10.0\n",
            "5.0\n",
            "15 <class 'int'>\n",
            "5 <class 'int'>\n",
            "50 <class 'int'>\n",
            "2.0 <class 'float'>\n"
          ]
        }
      ]
    },
    {
      "cell_type": "markdown",
      "source": [
        "Q4. My Friends List"
      ],
      "metadata": {
        "id": "Wt2SO7MlQZR9"
      }
    },
    {
      "cell_type": "code",
      "source": [
        "my_friends=[\"haris\",\"ali\",\"fakhar\",\"izhar\"]\n",
        "for friend in my_friends:\n",
        "  print(f\"my best friend are:{friend.title()}\")"
      ],
      "metadata": {
        "colab": {
          "base_uri": "https://localhost:8080/"
        },
        "id": "Tl7CGufUQawE",
        "outputId": "5d7059ed-dd40-40b3-a0d1-152fc5fec728"
      },
      "execution_count": null,
      "outputs": [
        {
          "output_type": "stream",
          "name": "stdout",
          "text": [
            "my best friend are:Haris\n",
            "my best friend are:Ali\n",
            "my best friend are:Fakhar\n",
            "my best friend are:Izhar\n"
          ]
        }
      ]
    },
    {
      "cell_type": "markdown",
      "source": [
        "\n",
        " Q5. Update Your List"
      ],
      "metadata": {
        "id": "Z7hehId4R2_l"
      }
    },
    {
      "cell_type": "code",
      "source": [
        "fruits=[\"banana\",\"apple\",\"mango\"]\n",
        "fruits[1]=\"orange\" #replacing on fruit with second\n",
        "print(fruits)\n",
        "fruits.append(\"grapes\") #adding one fruit at the end\n",
        "print(fruits)\n",
        "fruits.insert(0,\"strawbery\") #adding one fruit at the beigning\n",
        "print(fruits)"
      ],
      "metadata": {
        "colab": {
          "base_uri": "https://localhost:8080/"
        },
        "id": "EBG_V6e9SXh1",
        "outputId": "86ad783b-c48a-4a58-f579-950e52444876"
      },
      "execution_count": null,
      "outputs": [
        {
          "output_type": "stream",
          "name": "stdout",
          "text": [
            "['banana', 'orange', 'mango']\n",
            "['banana', 'orange', 'mango', 'grapes']\n",
            "['strawbery', 'banana', 'orange', 'mango', 'grapes']\n"
          ]
        }
      ]
    },
    {
      "cell_type": "markdown",
      "source": [
        "\n",
        " Q6. List Length Reporter"
      ],
      "metadata": {
        "id": "2ANSwrslpJ1k"
      }
    },
    {
      "cell_type": "code",
      "source": [
        "animal_1=input(\"enter you favuorite animal:\")\n",
        "animal_2=input(\"enter you favuorite animal:\")\n",
        "animal_3=input(\"enter you favuorite animal:\")\n",
        "animal_4=input(\"enter you favuorite animal:\")\n",
        "animal_5=input(\"enter you favuorite animal:\")\n",
        "messgae=f\"my favourite animals are:\\n{animal_1.title()}\\n{animal_2.title()}\\n{animal_3.title()}\\n{animal_4.title()}\\n{animal_5.title()}\"\n",
        "print(messgae)"
      ],
      "metadata": {
        "colab": {
          "base_uri": "https://localhost:8080/"
        },
        "id": "FXyrQK0upK5q",
        "outputId": "071fab19-2ee3-48f8-9fe5-2dd763396af9"
      },
      "execution_count": null,
      "outputs": [
        {
          "output_type": "stream",
          "name": "stdout",
          "text": [
            "enter you favuorite animal:panad\n",
            "enter you favuorite animal:tiger\n",
            "enter you favuorite animal:lion\n",
            "enter you favuorite animal:cat\n",
            "enter you favuorite animal:dog\n",
            "my favourite animals are:\n",
            "Panad\n",
            "Tiger\n",
            "Lion\n",
            "Cat\n",
            "Dog\n"
          ]
        }
      ]
    },
    {
      "cell_type": "code",
      "source": [
        "2-Store each animal in a list."
      ],
      "metadata": {
        "id": "MdcGKS8urkpC"
      },
      "execution_count": null,
      "outputs": []
    },
    {
      "cell_type": "code",
      "source": [
        "animals=[]\n",
        "for i in range(5):\n",
        "  name=input(f\"Enter your animal name {i+1}:\")\n",
        "  animals.append(name)\n",
        "print(\"list of animals\",animals)"
      ],
      "metadata": {
        "colab": {
          "base_uri": "https://localhost:8080/"
        },
        "id": "KxhJe2Torv4b",
        "outputId": "f7f0628d-b431-4757-9761-ddf70c091ef9"
      },
      "execution_count": null,
      "outputs": [
        {
          "output_type": "stream",
          "name": "stdout",
          "text": [
            "Enter your animal name 1:lion\n",
            "Enter your animal name 2:cat\n",
            "Enter your animal name 3:tiger\n",
            "Enter your animal name 4:cheeta\n",
            "Enter your animal name 5:monkey\n",
            "list of animals ['lion', 'cat', 'tiger', 'cheeta', 'monkey']\n"
          ]
        }
      ]
    },
    {
      "cell_type": "code",
      "source": [
        "# Ask the user how many animals they want to enter\n",
        "count = int(input(\"How many animal names would you like to enter? \"))\n",
        "\n",
        "# Create an empty list to store the names\n",
        "animals = []\n",
        "\n",
        "# Loop to collect animal names\n",
        "for i in range(count):\n",
        "    name = input(f\"Enter the name of animal {i + 1}: \")\n",
        "    animals.append(name)\n",
        "\n",
        "# Show the final list\n",
        "print(\"List of animals:\", animals)\n"
      ],
      "metadata": {
        "colab": {
          "base_uri": "https://localhost:8080/"
        },
        "id": "x7LaZ1KitFx2",
        "outputId": "43a1c61e-bf3a-4f68-a53c-bbd8f21105cf"
      },
      "execution_count": null,
      "outputs": [
        {
          "output_type": "stream",
          "name": "stdout",
          "text": [
            "How many animal names would you like to enter? 5\n",
            "Enter the name of animal 1: tiger\n",
            "Enter the name of animal 2: cheetah\n",
            "Enter the name of animal 3: monkey\n",
            "Enter the name of animal 4: goat\n",
            "Enter the name of animal 5: lkion\n",
            "List of animals: ['tiger', 'cheetah', 'monkey', 'goat', 'lkion']\n"
          ]
        }
      ]
    },
    {
      "cell_type": "markdown",
      "source": [
        " Print the total number of animals"
      ],
      "metadata": {
        "id": "TmXx8FWLtgIy"
      }
    },
    {
      "cell_type": "code",
      "source": [
        "print(len(animals))"
      ],
      "metadata": {
        "colab": {
          "base_uri": "https://localhost:8080/"
        },
        "id": "fLxNlNqetjOI",
        "outputId": "c9708377-c249-4197-da70-6aad5878e735"
      },
      "execution_count": null,
      "outputs": [
        {
          "output_type": "stream",
          "name": "stdout",
          "text": [
            "5\n"
          ]
        }
      ]
    },
    {
      "cell_type": "markdown",
      "source": [
        " 6-Print the first and last animal using indexing"
      ],
      "metadata": {
        "id": "NfPEKn6OtrQ2"
      }
    },
    {
      "cell_type": "code",
      "source": [
        "animals[0]\n"
      ],
      "metadata": {
        "colab": {
          "base_uri": "https://localhost:8080/",
          "height": 35
        },
        "id": "XrVZsaCBtuDT",
        "outputId": "f9889d0a-24b0-4247-8028-88e0fd2303d7"
      },
      "execution_count": null,
      "outputs": [
        {
          "output_type": "execute_result",
          "data": {
            "text/plain": [
              "'tiger'"
            ],
            "application/vnd.google.colaboratory.intrinsic+json": {
              "type": "string"
            }
          },
          "metadata": {},
          "execution_count": 9
        }
      ]
    },
    {
      "cell_type": "code",
      "source": [
        "animals[4]"
      ],
      "metadata": {
        "colab": {
          "base_uri": "https://localhost:8080/",
          "height": 35
        },
        "id": "Djbm1G_1uJZQ",
        "outputId": "554be266-9576-4359-d79a-d751c5040177"
      },
      "execution_count": null,
      "outputs": [
        {
          "output_type": "execute_result",
          "data": {
            "text/plain": [
              "'lkion'"
            ],
            "application/vnd.google.colaboratory.intrinsic+json": {
              "type": "string"
            }
          },
          "metadata": {},
          "execution_count": 10
        }
      ]
    },
    {
      "cell_type": "markdown",
      "source": [
        "Part 3: For Loops & Ranges"
      ],
      "metadata": {
        "id": "tL7xHjLcz26H"
      }
    },
    {
      "cell_type": "code",
      "source": [
        "# Print numbers from 1 to 10\n",
        "for numbers in range(0,11):\n",
        "  print(numbers)"
      ],
      "metadata": {
        "colab": {
          "base_uri": "https://localhost:8080/"
        },
        "id": "0hzYMznJz4JH",
        "outputId": "2f5d9d82-815b-4065-f04e-a577cc5bb77d"
      },
      "execution_count": null,
      "outputs": [
        {
          "output_type": "stream",
          "name": "stdout",
          "text": [
            "0\n",
            "1\n",
            "2\n",
            "3\n",
            "4\n",
            "5\n",
            "6\n",
            "7\n",
            "8\n",
            "9\n",
            "10\n"
          ]
        }
      ]
    },
    {
      "cell_type": "code",
      "source": [
        "#we can also print in reverse order in same line\n",
        "for numbers in range(0,11):\n",
        "  print(numbers, end=' ')"
      ],
      "metadata": {
        "colab": {
          "base_uri": "https://localhost:8080/"
        },
        "id": "1jhdSckT0iff",
        "outputId": "57bd9ad9-bd63-4a5c-99c4-68eb3ce89a7e"
      },
      "execution_count": null,
      "outputs": [
        {
          "output_type": "stream",
          "name": "stdout",
          "text": [
            "0 1 2 3 4 5 6 7 8 9 10 "
          ]
        }
      ]
    },
    {
      "cell_type": "markdown",
      "source": [
        "Print even numbers from 2 to 20"
      ],
      "metadata": {
        "id": "k30tgXHM05kX"
      }
    },
    {
      "cell_type": "code",
      "source": [
        "# prompt: Print even numbers from 2 to 20\n",
        "\n",
        "for number in range(2, 21, 2):\n",
        "  print(number)\n"
      ],
      "metadata": {
        "colab": {
          "base_uri": "https://localhost:8080/"
        },
        "id": "E0BRH_Om0608",
        "outputId": "777f7493-fd65-4122-b46e-b2d4eb35f350"
      },
      "execution_count": null,
      "outputs": [
        {
          "output_type": "stream",
          "name": "stdout",
          "text": [
            "2\n",
            "4\n",
            "6\n",
            "8\n",
            "10\n",
            "12\n",
            "14\n",
            "16\n",
            "18\n",
            "20\n"
          ]
        }
      ]
    },
    {
      "cell_type": "code",
      "source": [
        "#we can also print it in same line\n",
        "for number in range(2,21,2):\n",
        "  print(number,end=' ')"
      ],
      "metadata": {
        "colab": {
          "base_uri": "https://localhost:8080/"
        },
        "id": "m24wH6DT1gba",
        "outputId": "f988aa7b-bd09-46f6-805a-5f21e5764e7a"
      },
      "execution_count": null,
      "outputs": [
        {
          "output_type": "stream",
          "name": "stdout",
          "text": [
            "2 4 6 8 10 12 14 16 18 20 "
          ]
        }
      ]
    },
    {
      "cell_type": "markdown",
      "source": [
        "# **print multiples of 5 from 5 to 50**"
      ],
      "metadata": {
        "id": "roedlOTg1xua"
      }
    },
    {
      "cell_type": "code",
      "source": [
        "for numbers in range(5,51,5):\n",
        "  print(numbers,end=' ')"
      ],
      "metadata": {
        "colab": {
          "base_uri": "https://localhost:8080/"
        },
        "id": "U3sWHVcy1048",
        "outputId": "914e97da-602b-43b5-dfa2-d24aefe836d6"
      },
      "execution_count": null,
      "outputs": [
        {
          "output_type": "stream",
          "name": "stdout",
          "text": [
            "5 10 15 20 25 30 35 40 45 50 "
          ]
        }
      ]
    },
    {
      "cell_type": "markdown",
      "source": [
        "✅\n",
        "# Q8. Squares ***Table***"
      ],
      "metadata": {
        "id": "2ogE0Sic46sC"
      }
    },
    {
      "cell_type": "code",
      "source": [
        "for numbers in range(0,11):\n",
        "  square=numbers**2\n",
        "  print(f\"the square of {numbers} is {square}\")"
      ],
      "metadata": {
        "colab": {
          "base_uri": "https://localhost:8080/"
        },
        "id": "MBXbMoEU4-fi",
        "outputId": "a5cb867f-88d8-4664-8926-402de4f7cf18"
      },
      "execution_count": null,
      "outputs": [
        {
          "output_type": "stream",
          "name": "stdout",
          "text": [
            "the square of 0 is 0\n",
            "the square of 1 is 1\n",
            "the square of 2 is 4\n",
            "the square of 3 is 9\n",
            "the square of 4 is 16\n",
            "the square of 5 is 25\n",
            "the square of 6 is 36\n",
            "the square of 7 is 49\n",
            "the square of 8 is 64\n",
            "the square of 9 is 81\n",
            "the square of 10 is 100\n"
          ]
        }
      ]
    },
    {
      "cell_type": "code",
      "source": [
        "#another method using list\n",
        "square=[]\n",
        "for numbers in range(0,11):\n",
        "  square.append(numbers**2)\n",
        "print(f\"square of numbers=\",square)"
      ],
      "metadata": {
        "colab": {
          "base_uri": "https://localhost:8080/"
        },
        "id": "xLoArDFA6ZFo",
        "outputId": "5a7ccabc-0987-4cbd-c15f-61d9ca9d7cc8"
      },
      "execution_count": null,
      "outputs": [
        {
          "output_type": "stream",
          "name": "stdout",
          "text": [
            "square of numbers= [0, 1, 4, 9, 16, 25, 36, 49, 64, 81, 100]\n"
          ]
        }
      ]
    },
    {
      "cell_type": "markdown",
      "source": [
        "\n",
        " Q9. Make a List of Cubes"
      ],
      "metadata": {
        "id": "WAOSamhkiA-z"
      }
    },
    {
      "cell_type": "code",
      "source": [
        "cubes = []\n",
        "for x in range(1, 6):\n",
        "    cubes.append(x**3)\n",
        "print(cubes)\n"
      ],
      "metadata": {
        "colab": {
          "base_uri": "https://localhost:8080/"
        },
        "id": "mgegD_xOiCMX",
        "outputId": "17745199-9adb-4219-989e-17dfcfea2641"
      },
      "execution_count": 2,
      "outputs": [
        {
          "output_type": "stream",
          "name": "stdout",
          "text": [
            "[1, 8, 27, 64, 125]\n"
          ]
        }
      ]
    },
    {
      "cell_type": "code",
      "source": [
        "cubes = [x**3 for x in range(1, 6)]\n",
        "print(cubes)\n"
      ],
      "metadata": {
        "colab": {
          "base_uri": "https://localhost:8080/"
        },
        "id": "LzTvAoQvi4An",
        "outputId": "f06f4f7e-783d-4805-839e-4ba477dcbaf9"
      },
      "execution_count": 3,
      "outputs": [
        {
          "output_type": "stream",
          "name": "stdout",
          "text": [
            "[1, 8, 27, 64, 125]\n"
          ]
        }
      ]
    },
    {
      "cell_type": "markdown",
      "source": [
        "\n",
        " Q10. Top 3 Movies"
      ],
      "metadata": {
        "id": "VJMziv_kjEfA"
      }
    },
    {
      "cell_type": "code",
      "source": [
        "movie_names=[]\n",
        "movie_1=input(\"enter your favourite movie:\")\n",
        "movie_2=input(\"enter your favourite movie:\")\n",
        "movie_3=input(\"enter your favourite movie:\")\n",
        "movie_4=input(\"enter your favourite movie:\")\n",
        "movie_5=input(\"enter your favourite movie:\")\n",
        "movie_names.append(movie_1)\n",
        "movie_names.append(movie_2)\n",
        "movie_names.append(movie_3)\n",
        "movie_names.append(movie_4)\n",
        "movie_names.append(movie_5)\n",
        "print(movie_names)\n",
        "print(movie_names[0:3])\n",
        "print(movie_names[3:5])"
      ],
      "metadata": {
        "colab": {
          "base_uri": "https://localhost:8080/"
        },
        "id": "0wg4DGBBjFwX",
        "outputId": "313dda78-606b-4053-e31a-1ec59030c30d"
      },
      "execution_count": 6,
      "outputs": [
        {
          "output_type": "stream",
          "name": "stdout",
          "text": [
            "enter your favourite movie:titanic\n",
            "enter your favourite movie:sea level\n",
            "enter your favourite movie:loveable\n",
            "enter your favourite movie:the hero\n",
            "enter your favourite movie:mute\n",
            "['titanic', 'sea level', 'loveable', 'the hero', 'mute']\n",
            "['titanic', 'sea level', 'loveable']\n",
            "['the hero', 'mute']\n"
          ]
        }
      ]
    },
    {
      "cell_type": "markdown",
      "source": [
        "Q11.\n",
        "�\n",
        "�‍🏫\n",
        " Top Students"
      ],
      "metadata": {
        "id": "IFJDxzzDkW7g"
      }
    },
    {
      "cell_type": "code",
      "source": [
        "students=[]\n",
        "student_1=input(\"enter your name:\")\n",
        "student_2=input(\"enter your name:\")\n",
        "student_3=input(\"enter your name:\")\n",
        "student_4=input(\"enter your name:\")\n",
        "student_5=input(\"enter your name:\")\n",
        "students.append(student_1)\n",
        "students.append(student_2)\n",
        "students.append(student_3)\n",
        "students.append(student_4)\n",
        "students.append(student_5)\n",
        "print(students)\n",
        "for student in students:\n",
        "  print(f\"hello!{student.title()}\")\n",
        "print(students[0:2])\n",
        "copied=students.copy()\n",
        "for item in copied:\n",
        "  print(item)"
      ],
      "metadata": {
        "colab": {
          "base_uri": "https://localhost:8080/"
        },
        "id": "pVqAb7QkkZR-",
        "outputId": "d629a593-a5c9-4ac3-8922-3ae0f9fa3fb5"
      },
      "execution_count": 14,
      "outputs": [
        {
          "output_type": "stream",
          "name": "stdout",
          "text": [
            "enter your name:meesem\n",
            "enter your name:ali\n",
            "enter your name:irtiza\n",
            "enter your name:moon\n",
            "enter your name:aoun\n",
            "['meesem', 'ali', 'irtiza', 'moon', 'aoun']\n",
            "hello!Meesem\n",
            "hello!Ali\n",
            "hello!Irtiza\n",
            "hello!Moon\n",
            "hello!Aoun\n",
            "['meesem', 'ali']\n",
            "meesem\n",
            "ali\n",
            "irtiza\n",
            "moon\n",
            "aoun\n"
          ]
        }
      ]
    },
    {
      "cell_type": "markdown",
      "source": [
        "✅\n",
        " Q12.\n",
        "✈\n",
        " Travel WishlisT"
      ],
      "metadata": {
        "id": "rBCrSRT4C1rd"
      }
    },
    {
      "cell_type": "code",
      "source": [
        "whish_list=[]\n",
        "destination_1=input(\"enter your destination:\")\n",
        "destination_2=input(\"enter your destination:\")\n",
        "destination_3=input(\"enter your destination:\")\n",
        "destination_4=input(\"enter your destination:\")\n",
        "destination_5=input(\"enter your destination:\")\n",
        "whish_list.append(destination_1)\n",
        "whish_list.append(destination_2)\n",
        "whish_list.append(destination_3)\n",
        "whish_list.append(destination_4)\n",
        "whish_list.append(destination_5)\n",
        "print(whish_list)\n",
        "sorted_list=sorted(whish_list)\n",
        "print(sorted_list)"
      ],
      "metadata": {
        "colab": {
          "base_uri": "https://localhost:8080/"
        },
        "id": "VsriDug-C32Q",
        "outputId": "d3efb076-c279-4bcd-f552-add675132954"
      },
      "execution_count": 1,
      "outputs": [
        {
          "output_type": "stream",
          "name": "stdout",
          "text": [
            "enter your destination:murree\n",
            "enter your destination:abotabad\n",
            "enter your destination:kashmir\n",
            "enter your destination:london\n",
            "enter your destination:nathiyagali\n",
            "['murree', 'abotabad', 'kashmir', 'london', 'nathiyagali']\n",
            "['abotabad', 'kashmir', 'london', 'murree', 'nathiyagali']\n"
          ]
        }
      ]
    },
    {
      "cell_type": "code",
      "source": [
        "# prompt: Sort the list in reverse alphabetical order using\n",
        "\n",
        "whish_list.sort(reverse=True)\n",
        "print(whish_list)\n"
      ],
      "metadata": {
        "colab": {
          "base_uri": "https://localhost:8080/"
        },
        "id": "qxuQ6yDzDoRo",
        "outputId": "36b6c9f8-08a2-47ae-8190-5b0b1e6db58e"
      },
      "execution_count": 2,
      "outputs": [
        {
          "output_type": "stream",
          "name": "stdout",
          "text": [
            "['nathiyagali', 'murree', 'london', 'kashmir', 'abotabad']\n"
          ]
        }
      ]
    },
    {
      "cell_type": "code",
      "source": [
        "# prompt: Use\n",
        "# .reverse() twice:\n",
        "\n",
        "whish_list.reverse()\n",
        "print(whish_list)\n",
        "whish_list.reverse()\n",
        "whish_list\n"
      ],
      "metadata": {
        "colab": {
          "base_uri": "https://localhost:8080/"
        },
        "id": "Oc3Ou9lJEIEp",
        "outputId": "50b7cef9-a718-4498-fb10-61c93f1abbdb"
      },
      "execution_count": 3,
      "outputs": [
        {
          "output_type": "stream",
          "name": "stdout",
          "text": [
            "['abotabad', 'kashmir', 'london', 'murree', 'nathiyagali']\n"
          ]
        },
        {
          "output_type": "execute_result",
          "data": {
            "text/plain": [
              "['nathiyagali', 'murree', 'london', 'kashmir', 'abotabad']"
            ]
          },
          "metadata": {},
          "execution_count": 3
        }
      ]
    }
  ]
}