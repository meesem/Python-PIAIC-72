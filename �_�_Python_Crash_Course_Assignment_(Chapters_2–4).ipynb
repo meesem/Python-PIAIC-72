{
  "nbformat": 4,
  "nbformat_minor": 0,
  "metadata": {
    "colab": {
      "provenance": [],
      "authorship_tag": "ABX9TyMIgXaWHU1dQz1FDnoocREm",
      "include_colab_link": true
    },
    "kernelspec": {
      "name": "python3",
      "display_name": "Python 3"
    },
    "language_info": {
      "name": "python"
    }
  },
  "cells": [
    {
      "cell_type": "markdown",
      "metadata": {
        "id": "view-in-github",
        "colab_type": "text"
      },
      "source": [
        "<a href=\"https://colab.research.google.com/github/meesem/Python-PIAIC-72/blob/main/%EF%BF%BD_%EF%BF%BD_Python_Crash_Course_Assignment_(Chapters_2%E2%80%934).ipynb\" target=\"_parent\"><img src=\"https://colab.research.google.com/assets/colab-badge.svg\" alt=\"Open In Colab\"/></a>"
      ]
    },
    {
      "cell_type": "code",
      "execution_count": null,
      "metadata": {
        "id": "nALiZj1ACO2v"
      },
      "outputs": [],
      "source": []
    },
    {
      "cell_type": "markdown",
      "source": [
        " Part 1: Variables & Input\n",
        " ✅\n",
        " Q1. Favorite Movie Intro"
      ],
      "metadata": {
        "id": "X7tagDRECiRZ"
      }
    },
    {
      "cell_type": "code",
      "source": [
        "favourite_movie=input(\"what is your favourite movie:\")\n",
        "print(\"Ali,s favourite movie is\",favourite_movie)\n",
        "message=f\"Alis favourite movie is\\n{favourite_movie.title()}\"\n",
        "print(message)"
      ],
      "metadata": {
        "colab": {
          "base_uri": "https://localhost:8080/"
        },
        "id": "U7MkqZpFCkXe",
        "outputId": "822560c2-e0f6-4769-8636-5421495f7891"
      },
      "execution_count": null,
      "outputs": [
        {
          "output_type": "stream",
          "name": "stdout",
          "text": [
            "what is your favourite movie:interstellar\n",
            "Ali,s favourite movie is interstellar interstellar\n",
            "Alis favourite movie is interstellar\n",
            "Interstellar\n"
          ]
        }
      ]
    },
    {
      "cell_type": "markdown",
      "source": [
        "✅\n",
        " Q2. Case Converter\n",
        "\n"
      ],
      "metadata": {
        "id": "a2mUWBjWEhaG"
      }
    },
    {
      "cell_type": "code",
      "source": [
        "MY_NAME=(\"MEESEM\")\n",
        "print(MY_NAME.lower())\n",
        "print(MY_NAME.upper())\n",
        "print(MY_NAME.title())"
      ],
      "metadata": {
        "colab": {
          "base_uri": "https://localhost:8080/"
        },
        "id": "ZyQR8R7MEofP",
        "outputId": "7609bcd2-41e8-4ec4-da6b-7dc713d26b71"
      },
      "execution_count": null,
      "outputs": [
        {
          "output_type": "stream",
          "name": "stdout",
          "text": [
            "meesem\n",
            "MEESEM\n",
            "Meesem\n"
          ]
        }
      ]
    },
    {
      "cell_type": "markdown",
      "source": [
        "Q3. Simple Math with Input\n"
      ],
      "metadata": {
        "id": "KXpDFzNgFOUA"
      }
    },
    {
      "cell_type": "code",
      "source": [
        "number_1=input(\"enter a first number:\")\n",
        "number_2=input(\"enter a second number:\")\n",
        "my_number_int=int(number_1)\n",
        "my_number_int2=int(number_2)\n",
        "my_number_float=float(number_1)\n",
        "my_number_float2=float(number_2)\n",
        "print(my_number_float)\n",
        "print(my_number_float2)\n",
        "sum=(my_number_int+my_number_int2)\n",
        "difference=(my_number_int-my_number_int2)\n",
        "product=(my_number_int*my_number_int2)\n",
        "quotient=(my_number_int/my_number_int2)\n",
        "print(sum,type(sum))\n",
        "print(difference,type(difference))\n",
        "print(product,type(product))\n",
        "print(quotient,type(quotient))"
      ],
      "metadata": {
        "id": "aYbjQHNtGsPM",
        "colab": {
          "base_uri": "https://localhost:8080/"
        },
        "outputId": "384461b7-8187-4fed-82d5-da7d54a65177"
      },
      "execution_count": 17,
      "outputs": [
        {
          "output_type": "stream",
          "name": "stdout",
          "text": [
            "enter a first number:10\n",
            "enter a second number:5\n",
            "10.0\n",
            "5.0\n",
            "15 <class 'int'>\n",
            "5 <class 'int'>\n",
            "50 <class 'int'>\n",
            "2.0 <class 'float'>\n"
          ]
        }
      ]
    },
    {
      "cell_type": "markdown",
      "source": [
        "Q4. My Friends List"
      ],
      "metadata": {
        "id": "Wt2SO7MlQZR9"
      }
    },
    {
      "cell_type": "code",
      "source": [
        "my_friends=[\"haris\",\"ali\",\"fakhar\",\"izhar\"]\n",
        "for friend in my_friends:\n",
        "  print(f\"my best friend are:{friend.title()}\")"
      ],
      "metadata": {
        "colab": {
          "base_uri": "https://localhost:8080/"
        },
        "id": "Tl7CGufUQawE",
        "outputId": "5d7059ed-dd40-40b3-a0d1-152fc5fec728"
      },
      "execution_count": 21,
      "outputs": [
        {
          "output_type": "stream",
          "name": "stdout",
          "text": [
            "my best friend are:Haris\n",
            "my best friend are:Ali\n",
            "my best friend are:Fakhar\n",
            "my best friend are:Izhar\n"
          ]
        }
      ]
    },
    {
      "cell_type": "markdown",
      "source": [
        "\n",
        " Q5. Update Your List"
      ],
      "metadata": {
        "id": "Z7hehId4R2_l"
      }
    },
    {
      "cell_type": "code",
      "source": [
        "fruits=[\"banana\",\"apple\",\"mango\"]\n",
        "fruits[1]=\"orange\" #replacing on fruit with second\n",
        "print(fruits)\n",
        "fruits.append(\"grapes\") #adding one fruit at the end\n",
        "print(fruits)\n",
        "fruits.insert(0,\"strawbery\") #adding one fruit at the beigning\n",
        "print(fruits)"
      ],
      "metadata": {
        "colab": {
          "base_uri": "https://localhost:8080/"
        },
        "id": "EBG_V6e9SXh1",
        "outputId": "86ad783b-c48a-4a58-f579-950e52444876"
      },
      "execution_count": 23,
      "outputs": [
        {
          "output_type": "stream",
          "name": "stdout",
          "text": [
            "['banana', 'orange', 'mango']\n",
            "['banana', 'orange', 'mango', 'grapes']\n",
            "['strawbery', 'banana', 'orange', 'mango', 'grapes']\n"
          ]
        }
      ]
    }
  ]
}