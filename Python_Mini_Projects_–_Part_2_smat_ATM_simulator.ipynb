{
  "nbformat": 4,
  "nbformat_minor": 0,
  "metadata": {
    "colab": {
      "provenance": [],
      "authorship_tag": "ABX9TyOOz071dvZEBywyvvzdYPeh",
      "include_colab_link": true
    },
    "kernelspec": {
      "name": "python3",
      "display_name": "Python 3"
    },
    "language_info": {
      "name": "python"
    }
  },
  "cells": [
    {
      "cell_type": "markdown",
      "metadata": {
        "id": "view-in-github",
        "colab_type": "text"
      },
      "source": [
        "<a href=\"https://colab.research.google.com/github/meesem/Python-PIAIC-72/blob/main/Python_Mini_Projects_%E2%80%93_Part_2_smat_ATM_simulator.ipynb\" target=\"_parent\"><img src=\"https://colab.research.google.com/assets/colab-badge.svg\" alt=\"Open In Colab\"/></a>"
      ]
    },
    {
      "cell_type": "code",
      "execution_count": 2,
      "metadata": {
        "colab": {
          "base_uri": "https://localhost:8080/"
        },
        "id": "Ol-3hQ-noWae",
        "outputId": "55c1b75b-50ed-4faf-ce3a-a61fbc1869a4"
      },
      "outputs": [
        {
          "output_type": "stream",
          "name": "stdout",
          "text": [
            "🏦 Welcome to Python ATM\n",
            "Enter account number: 1001\n",
            "Enter PIN: 1234\n",
            "✅ Login successful!\n",
            "\n",
            "1. View Balance\n",
            "2. Deposit\n",
            "3. Withdraw\n",
            "4. Exit\n",
            "Choose option: 1\n",
            "Current balance: Rs. 5000.0\n",
            "\n",
            "1. View Balance\n",
            "2. Deposit\n",
            "3. Withdraw\n",
            "4. Exit\n",
            "Choose option: 2\n",
            "Enter deposit amount: 4000\n",
            "New balance: Rs. 9000.0\n",
            "\n",
            "1. View Balance\n",
            "2. Deposit\n",
            "3. Withdraw\n",
            "4. Exit\n",
            "Choose option: 3\n",
            "Enter withdrawal amount: 6000\n",
            "Withdrawal successful. New balance: Rs. 3000.0\n",
            "\n",
            "1. View Balance\n",
            "2. Deposit\n",
            "3. Withdraw\n",
            "4. Exit\n",
            "Choose option: 1\n",
            "Current balance: Rs. 3000.0\n",
            "\n",
            "1. View Balance\n",
            "2. Deposit\n",
            "3. Withdraw\n",
            "4. Exit\n",
            "Choose option: 4\n",
            "👋 Thank you for using Python ATM. Goodbye!\n"
          ]
        }
      ],
      "source": [
        "# 🏦 Smart ATM Simulator\n",
        "\n",
        "# Step 1: Sample user account data stored in a dictionary\n",
        "accounts = {\n",
        "    1001: {\"name\": \"Alice\", \"pin\": 1234, \"balance\": 5000.0},\n",
        "    1002: {\"name\": \"Bob\", \"pin\": 5678, \"balance\": 3000.0},\n",
        "    1003: {\"name\": \"Charlie\", \"pin\": 9999, \"balance\": 10000.0}\n",
        "}\n",
        "\n",
        "# Step 2: Display welcome message\n",
        "print(\"🏦 Welcome to Python ATM\")\n",
        "\n",
        "# Step 3: Ask user to enter account number and PIN\n",
        "acc_no = int(input(\"Enter account number: \"))\n",
        "pin = int(input(\"Enter PIN: \"))\n",
        "\n",
        "# Step 4: Check if account number exists and PIN is correct\n",
        "if acc_no in accounts and accounts[acc_no][\"pin\"] == pin:\n",
        "    print(\"✅ Login successful!\")  # Successful login message\n",
        "\n",
        "    # Step 5: Start ATM menu inside an infinite loop\n",
        "    while True:\n",
        "        # Display menu options\n",
        "        print(\"\\n1. View Balance\")\n",
        "        print(\"2. Deposit\")\n",
        "        print(\"3. Withdraw\")\n",
        "        print(\"4. Exit\")\n",
        "        choice = input(\"Choose option: \")  # Get user choice\n",
        "\n",
        "        # Option 1: View balance\n",
        "        if choice == \"1\":\n",
        "            print(f\"Current balance: Rs. {accounts[acc_no]['balance']}\")\n",
        "\n",
        "        # Option 2: Deposit money\n",
        "        elif choice == \"2\":\n",
        "            amount = float(input(\"Enter deposit amount: \"))  # Ask for deposit amount\n",
        "            if amount > 0:\n",
        "                accounts[acc_no]['balance'] += amount  # Add to balance\n",
        "                print(f\"New balance: Rs. {accounts[acc_no]['balance']}\")\n",
        "            else:\n",
        "                print(\"⚠️ Invalid amount.\")  # Negative or zero deposit not allowed\n",
        "\n",
        "        # Option 3: Withdraw money\n",
        "        elif choice == \"3\":\n",
        "            amount = float(input(\"Enter withdrawal amount: \"))  # Ask for withdrawal amount\n",
        "            # Check if amount is valid and user has enough balance\n",
        "            if 0 < amount <= accounts[acc_no]['balance']:\n",
        "                accounts[acc_no]['balance'] -= amount  # Deduct from balance\n",
        "                print(f\"Withdrawal successful. New balance: Rs. {accounts[acc_no]['balance']}\")\n",
        "            else:\n",
        "                print(\"❌ Insufficient balance or invalid amount.\")  # Error message\n",
        "\n",
        "        # Option 4: Exit the loop and program\n",
        "        elif choice == \"4\":\n",
        "            print(\"👋 Thank you for using Python ATM. Goodbye!\")\n",
        "            break  # Exit the while loop\n",
        "\n",
        "        # If user enters anything other than 1–4\n",
        "        else:\n",
        "            print(\"⚠️ Invalid option. Please try again.\")\n",
        "\n",
        "# Step 6: Handle invalid login\n",
        "else:\n",
        "    print(\"❌ Invalid account number or PIN.\")\n",
        "3"
      ]
    }
  ]
}